{
 "cells": [
  {
   "cell_type": "code",
   "execution_count": 1,
   "id": "3ad6cefe",
   "metadata": {},
   "outputs": [],
   "source": [
    "import glob\n",
    "import json\n",
    "import os\n",
    "\n",
    "import anthropic"
   ]
  },
  {
   "cell_type": "code",
   "execution_count": 2,
   "id": "6b9e45c8",
   "metadata": {},
   "outputs": [
    {
     "data": {
      "text/plain": [
       "30"
      ]
     },
     "execution_count": 2,
     "metadata": {},
     "output_type": "execute_result"
    }
   ],
   "source": [
    "conversations = []\n",
    "\n",
    "paths = glob.glob('./res/297.SNS 데이터 고도화/01-1.정식개방데이터/Validation/02.라벨링데이터/VL/*json')\n",
    "target_count = 20\n",
    "count = 0\n",
    "\n",
    "for path in paths:\n",
    "    with open(path, 'r') as f:\n",
    "        conv_dict = json.load(f)\n",
    "        if conv_dict['header']['dialogueInfo']['numberOfParticipants'] == 2:\n",
    "            if conv_dict['header']['dialogueInfo']['numberOfUtterances'] > 30:\n",
    "                conv_list = []\n",
    "                for d in conv_dict['body']:\n",
    "                    conv_list.append(d['participantID'] + ': ' + d['utterance'])\n",
    "                if conv_list[0] == conv_list[1]:\n",
    "                    print('Repeated Conversations')\n",
    "                    continue\n",
    "                conv_text = '\\n'.join(conv_list)\n",
    "                conversations.append(conv_text)\n",
    "                count += 1\n",
    "                if count == target_count:\n",
    "                    break\n",
    "\n",
    "target_count = 30\n",
    "count = 0\n",
    "\n",
    "for path in paths:\n",
    "    with open(path, 'r') as f:\n",
    "        conv_dict = json.load(f)\n",
    "        if conv_dict['header']['dialogueInfo']['numberOfParticipants'] > 2:\n",
    "            if conv_dict['header']['dialogueInfo']['numberOfUtterances'] > 30:\n",
    "                conv_list = []\n",
    "                for d in conv_dict['body']:\n",
    "                    conv_list.append(d['participantID'] + ': ' + d['utterance'])\n",
    "                if conv_list[0] == conv_list[1]:           \n",
    "                    continue\n",
    "                conv_text = '\\n'.join(conv_list)\n",
    "                conversations.append(conv_text)\n",
    "                count += 1\n",
    "                if count == target_count:\n",
    "                    break\n",
    "\n",
    "count"
   ]
  },
  {
   "cell_type": "code",
   "execution_count": 5,
   "id": "30397666",
   "metadata": {},
   "outputs": [],
   "source": [
    "prompt = f\"\"\"You are given a conversation among three users below. Imagine what the users discussed prior to the conversation.\n",
    "Please write the previous content, strictly following the tone and format of given conversation, with at least 3000 characters.\n",
    "\n",
    "{conversations[-2]}\n",
    "\"\"\""
   ]
  },
  {
   "cell_type": "code",
   "execution_count": 6,
   "id": "8e350f3c",
   "metadata": {},
   "outputs": [
    {
     "name": "stdout",
     "output_type": "stream",
     "text": [
      "P01: 웹툰이나 만화 자주 보는 편이야?\n",
      "P02: 나 웹툰은 안 보고 만화는 코난이랑 짱구 슬램덩크 이런 거 좋아해~ 넌?\n",
      "P03: 난 반대로 만화 안보고 웹툰만 엄청 봐 키키\n",
      "P03: 요즘에는 시험 때문에 못 보기는 하는데 끝나면 다 몰아볼 예정이야 후욱후욱\n",
      "P01: 키키 나는 둘 다 안 봄~\n",
      "P01: 중학교 때는 가끔 만화책 빌려서 봐보긴 했는데 그것도 몇 개 안돼...\n",
      "P01: 웹툰 재밌어?\n",
      "P02: 어떤 작가 좋아해?\n",
      "P02: 특별히 좋아하는 웹툰 있어?\n",
      "P03: 이동건이라고 유미의 세포들 그린 작가인데 진짜 캐릭처도 귀엽고 감정선이 정말 여자인 건가 싶을 정도로 세심해요!\n",
      "P03: 재미도 있고 지금도 뭐 신작 나왔더라고!\n",
      "P01: 아 유미의 세포들! 들어보긴 했어~\n",
      "P01: 유명하더라 영화인지 드라마로도 나오는 거 같던데? 김고은이 주인공으로\n",
      "P02: 맞아 드라마 야나? 예고편 같은 거 떴던데~\n",
      "P03: 웅웅 맞아 맞아 그거 웹툰이 엄청 흥행 해서 드라마화 한다고 하더라...\n",
      "P03: 근데 개인적으로 웹툰 기반 드라마화 한 거 그렇게 재미는 없을 것 같아서 딱히 기대는 안 하는 중\n",
      "P01: 맞아 전에 치즈인더트랩도... 별로 였다고 했던 거 같애\n",
      "P02: 그건 드라마 영화 둘 다 이상해 ㅠㅠ 내용은 괜찮은데~\n",
      "P03: 맞아 드라마로 했다가 평 안 좋았어서 영화로도 나왔는데 더 망했던 걸로 기억해 키키\n",
      "P03: 그나마 요번에 한 간 떨어지는 동거 그거는 잘 된 것 같더라고?\n",
      "P01: 아아 장기용이랑 혜리 나온 거? 뭐 구미호 얘기인 거야...?\n",
      "P02: 아 진짜? 그것도 앞에만 보다 말았는데~\n",
      "P03: 웅웅 맞아 맞아 장기용 여기도 나왔네 맞다 키키\n",
      "P03: 혹시 마블 영화 좋아해?\n",
      "P01: 보면 재밌는데 나는 막 챙겨보는 편은 아니야! 좋아해?\n",
      "P02: 안 좋아해~ 다들 재밌다고 해서 맘 잡고 보려고 하는데 눈에 잘 안 들어오더라~ ㅠㅠ\n",
      "P03: 약간 나랑 언니랑 취향 좀 다른 듯 키키\n",
      "P03: 나는 마블 영화 엄청 챙겨 보는데 ㅠ\n",
      "P01: 보면 재밌기는 해!\n",
      "P01: 나는 아예 싹 보고 싶은데 너무 많아서 엄두가 안 나서 못 챙겨보는 중...\n",
      "P02: 마블 중에서 특히 어떤 게 재밌어?\n",
      "P03: 나는 단연 아이언맨이랑 어벤져스!\n",
      "P01: 아항 이번에 무슨... 마블 영화긴한데 중국인들? 아시아계? 히어로물 나오던데 마블 로고 보기 전까지는 그냥 중국 삼류 영화인 줄 알았어 하하\n",
      "P02: 제목이 뭐였어?\n",
      "P02: 난 그 발신 제한 그거 보고 싶었는데 아직 못 봤네\n",
      "P03: 아하 발신 제한 그것도 뭔가 잘된 것 같던데\n"
     ]
    }
   ],
   "source": [
    "print(conversations[-2])"
   ]
  },
  {
   "cell_type": "code",
   "execution_count": 7,
   "id": "e3edf981",
   "metadata": {},
   "outputs": [
    {
     "name": "stderr",
     "output_type": "stream",
     "text": [
      "/var/folders/25/r6dy_b_d6sb0y9nv_hk62c140000gn/T/ipykernel_81587/2185531226.py:5: DeprecationWarning: The model 'claude-3-5-sonnet-20240620' is deprecated and will reach end-of-life on October 22, 2025.\n",
      "Please migrate to a newer model. Visit https://docs.anthropic.com/en/docs/resources/model-deprecations for more information.\n",
      "  message = client.messages.create(\n"
     ]
    },
    {
     "data": {
      "text/plain": [
       "Usage(cache_creation=CacheCreation(ephemeral_1h_input_tokens=0, ephemeral_5m_input_tokens=0), cache_creation_input_tokens=0, cache_read_input_tokens=0, input_tokens=1415, output_tokens=4096, server_tool_use=None, service_tier='standard')"
      ]
     },
     "execution_count": 7,
     "metadata": {},
     "output_type": "execute_result"
    }
   ],
   "source": [
    "client = anthropic.Anthropic(\n",
    "    api_key=os.environ['CLAUDE_API_KEY']\n",
    ")\n",
    "\n",
    "message = client.messages.create(\n",
    "    model=\"claude-3-5-sonnet-20240620\",\n",
    "    max_tokens=4096,\n",
    "    temperature=0.0,\n",
    "    messages=[\n",
    "        {\"role\": \"user\", \"content\": prompt}\n",
    "    ]\n",
    ")\n",
    "\n",
    "message.usage  # API 호출 비용 대략 50원"
   ]
  },
  {
   "cell_type": "code",
   "execution_count": 8,
   "id": "024e7c15",
   "metadata": {},
   "outputs": [
    {
     "data": {
      "text/plain": [
       "[\"Here's an imagined previous conversation among the three users, following the tone and format of the given conversation:\",\n",
       " \"P02: 야 너네 요즘 뭐하고 지내?\\nP01: 나? 그냥 평소처럼 학교 다니고 공부하고 그러지 뭐\\nP03: 나도 비슷해~ 요즘 시험기간이라 공부하느라 정신없어\\nP02: 아 맞다 너네 시험기간이었지? 힘내!\\nP01: 고마워~ 너는 뭐하고 지내?\\nP02: 나는 요즘 드라마 보는 재미에 빠졌어\\nP03: 오 무슨 드라마?\\nP02: 요즘 '스물다섯 스물하나' 보고 있어. 진짜 재밌더라\\nP01: 아 그거 남주혁이랑 김태리 나오는 거 맞지?\\nP02: 응 맞아! 너도 알아?\\nP01: 응 광고랑 포스터 같은 거 봤어. 근데 난 드라마를 잘 안 봐서...\\nP03: 나도 들어본 것 같아! 근데 나는 요즘 공부하느라 드라마 볼 시간이 없어 ㅠㅠ\\nP02: 아 그렇구나~ 시험 끝나면 한번 봐봐. 진짜 재밌어!\\nP01: 난 드라마보다는 영화를 더 좋아하는 것 같아\\nP03: 오 영화? 어떤 장르 좋아해?\\nP01: 음... 로맨스 코미디나 액션 영화 주로 보는 것 같아\\nP02: 나도 로맨스 코미디 좋아해! 최근에 본 거 중에 추천할 만한 거 있어?\\nP01: 음... '너의 결혼식' 봤어? 그거 꽤 재밌던데\\nP03: 아 박보영이랑 김영광 나오는 거? 나도 봤어! 진짜 재밌었지\\nP02: 오 나 그거 아직 못 봤는데, 한번 봐야겠다!\\nP01: 응 한번 봐봐~ 근데 너네는 영화관에서 보는 거 좋아해? 아니면 집에서 보는 게 좋아?\\nP03: 나는 영화관! 대형 스크린이랑 음향이 주는 몰입감이 좋더라고\\nP02: 나는 집에서 보는 게 더 좋아. 편하게 누워서 볼 수 있잖아\\nP01: 아 그렇구나~ 나는 둘 다 좋아하는 편이야. 영화 종류에 따라 다른 것 같아\\nP03: 맞아 영화 종류에 따라 다르지. 액션 영화는 영화관에서 봐야 제맛인 것 같고\\nP02: 그러고 보니 너네 넷플릭스 같은 OTT 서비스 이용해?\\nP01: 나는 가끔 이용하는 편이야. 근데 요즘은 시간이 없어서...\\nP03: 나도 넷플릭스 구독 중! 근데 시험 때문에 요즘 못 보고 있어 ㅠㅠ\\nP02: 아 그렇구나~ 나는 요즘 넷플릭스에서 '오징어 게임' 봤는데 대박이더라\\nP01: 아 그거 엄청 유명했지! 나도 첫 화만 봤는데 좀 충격적이었어\\nP03: 맞아 나도 봤어! 진짜 재밌었지. 근데 좀 잔인한 장면이 많아서 힘들었어\\nP02: 그치? 나도 처음에는 좀 충격적이었는데, 보다 보니까 빠져들더라고\\nP01: 음... 나는 그런 장르는 좀 부담스러워서 잘 못 보겠어\\nP03: 아 그렇구나~ 취향이 다 다르지\\nP02: 그러고 보니 너네 예능 프로 보는 편이야?\\nP01: 나는 가끔 유튜브에서 짧은 클립 영상 보는 정도?\\nP03: 나도 비슷해~ 시간 날 때 유튜브에서 예능 하이라이트 영상 보는 편이야\\nP02: 아 그렇구나~ 나는 '런닝맨' 같은 거 좋아하는데\\nP01: 아 런닝맨! 예전에 엄청 재밌게 봤었는데, 요즘은 잘 안 보게 되더라고\\nP03: 맞아 나도 예전에는 자주 봤는데, 요즘은 잘 안 보게 돼\\nP02: 그래? 나는 아직도 재밌게 보고 있어. 유재석 진짜 웃기더라\\nP01: 맞아 유재석은 진짜 예능 천재인 것 같아\\nP03: 응응 동의해! 근데 요즘은 유튜브 크리에이터들도 엄청 재밌더라고\\nP02: 오 누구 좋아해?\\nP03: 나는 '침착맨' 좋아해! 진짜 말빨 대박이야\\nP01: 아 나도 알아! 가끔 영상 보는데 진짜 재밌지\\nP02: 오 나는 잘 모르는데, 한번 찾아봐야겠다\\nP01: 응응 한번 봐봐~ 근데 그러고 보니 너네 팟캐스트는 들어?\\nP03: 나는 가끔 들어. 주로 시사나 교양 프로그램\\nP02: 난 잘 안 들어. 뭔가 집중해서 들어야 할 것 같아서...\\nP01: 아 그렇구나~ 나도 가끔 들어보려고 하는데 잘 안 되더라고\\nP03: 응 처음에는 좀 어색할 수 있어. 근데 익숙해지면 은근히 재밌어\\nP02: 그래? 어떤 게 좋아?\\nP03: 나는 'TBS eFM This Morning'이랑 'CBS 김현정의 뉴스쇼' 자주 들어\\nP01: 오 그런 것도 있구나. 나는 팟캐스트보다는 음악 듣는 게 더 좋아\\nP02: 아 음악! 나도 음악 좋아해. 요즘 뭐 듣고 있어?\\nP01: 나는 요즘 아이유 노래 자주 듣고 있어. 너는?\\nP03: 나는 방탄소년단! 요즘 'Butter' 노래 진짜 중독성 있더라\\nP02: 오 나는 요즘 클래식에 빠졌어. 모차르트 교향곡 들으면서 공부하는 게 집중 잘 돼\\nP01: 와 클래식이라... 대단하다\\nP03: 응응 나도 클래식은 좀 어려운 것 같아\\nP02: 아니야~ 처음에는 나도 그랬는데, 들으다 보면 은근히 매력 있어\\nP01: 그렇구나~ 나중에 한번 도전해봐야겠다\\nP03: 나도! 근데 그러고 보니 너네 책은 자주 읽어?\\nP02: 나는 요즘 소설 읽는 재미에 빠졌어. 특히 무라카미 하루키 좋아해\\nP01: 오 하루키! 나도 '상실의 시대' 재밌게 읽었어\\nP03: 와 대단해... 나는 책을 잘 안 읽게 되더라고 ㅠㅠ\\nP02: 에이~ 시작이 반이야. 한번 시도해봐\\nP01: 맞아 처음에는 어려울 수 있어도, 습관이 되면 재밌을 거야\\nP03: 그래? 음... 그럼 뭐부터 읽으면 좋을까?\\nP02: 음... '아몬드'라는 책 어때? 그거 요즘 인기 많더라고\\nP01: 아 맞다! 그거 영화화된다고 하던데\\nP03: 오 그래? 한번 찾아봐야겠다. 고마워!\\nP02: 그러고 보니 너네 운동은 해?\\nP01: 나는 가끔 조깅하는 정도? 너는?\\nP03: 나는 요가를 시작했어. 스트레칭도 되고 좋더라고\\nP02: 오 대단하다! 나는 헬스장 다니고 있어. 근데 요즘 귀찮아서...\\nP01: 키키 운동은 시작하기가 제일 어려운 것 같아\\nP03: 맞아 근데 하다 보면 습관이 돼서 안 하면 이상해\\nP02: 그렇지? 나도 그래서 계속 하려고 노력 중이야\\nP01: 응응 화이팅이야! 아 그러고 보니 너네 요리는 해?\\nP03: 나는 가끔 해. 요즘은 유튜브 보면서 따라 하고 있어\\nP02: 오 대단하다! 나는 라면 끓이는 게 최선이야 ㅠㅠ\\nP01: 키키 나도 요리는 잘 못 해. 근데 해보고 싶긴 해\\nP03: 한번 도전해봐! 생각보다 재밌어\\nP02: 그래? 음... 다음에 같이 요리 한번 해볼까?\\nP01: 오 좋아! 근데 뭐 만들지?\\nP03: 파스타 어때? 간단하면서도 맛있잖아\\nP02: 오 좋은데! 나 파스타 좋아해\\nP01: 나도 좋아! 그럼 다음에 만나서 파스타 만들어 먹자\\nP03: 응응 좋아! 기대된다\\nP02: 그러고 보니 너네 여행은 자주 가?\\nP01: 나는 방학 때 가끔 가는 정도? 너는?\\nP03: 나도 비슷해. 요즘은 코로나 때문에 잘 못 가고 있어 ㅠㅠ\\nP02: 아 맞다 코로나... 나도 여행 가고 싶은데 못 가고 있어\\nP01: 맞아 코로나 끝나면 꼭 여행 가고 싶어\\nP03: 응응 나도! 어디 가고 싶어?\\nP02: 나는 일본! 도쿄랑 오사카 가보고 싶어\\nP01: 오 나도 일본 좋아! 난 교토 가보고 싶어\\nP03: 나는 유럽! 특히 프랑스 파리 꼭 가보고 싶어\\nP02: 와 유럽이라... 나도 언젠가 꼭 가보고 싶어\\nP01: 응응 나도! 근데 그러고 보니 너네 외국어는 할 줄 알아?\\nP03: 나는 영어 조금? 학교에서 배운 정도?\\nP02: 나도 비슷해. 근데 요즘 일본어 배우고 있어\\nP01: 오 대단하다! 나는 외국어를 잘 못 해서...\\nP03: 에이~ 너도 할 수 있을 거야. 시작이 반이래\\nP02: 맞아 처음에는 어려워도 계속하다 보면 늘어\\nP01: 그래? 음... 나도 한번 도전해볼까?\\nP03: 응응 좋아! 우리 같이 공부하자\\nP02: 오 좋은데! 뭐 배울래?\\nP01: 음... 영어? 아니면 일본어?\\nP03: 난 영어! 영어가 제일 많이 쓰이잖아\\nP02: 그럼 나는 일본어 계속할게. 너는 P01?\\nP01: 음... 나도 영어 해볼까? 같이 하면 더 재밌을 것 같아\\nP03: 좋아! 그럼 우리 다음에 만나서 영어 공부하자\\nP02: 오 재밌겠다! 나도 가끔 끼어들어도 돼?\\nP01: 당연하지! 너도 같이 하자\\nP03: 응응 좋아! 기대된다\\nP02: 그러고 보니 너네 취미는 뭐야?\\nP01: 음... 난 음악 듣는 거? 아니면 영화 보는 거?\\nP03: 나는 그림 그리는 거! 요즘 디지털 드로잉 배우고 있어\\nP02: 오 대단\"]"
      ]
     },
     "execution_count": 8,
     "metadata": {},
     "output_type": "execute_result"
    }
   ],
   "source": [
    "message.content[0].text.split('\\n\\n')"
   ]
  },
  {
   "cell_type": "code",
   "execution_count": 9,
   "id": "abc708ed",
   "metadata": {},
   "outputs": [],
   "source": [
    "lst = message.content[0].text.split('\\n\\n')[1:-1]\n",
    "for l in lst[:25]:\n",
    "    print(l)"
   ]
  },
  {
   "cell_type": "code",
   "execution_count": 10,
   "id": "0cebd6f5",
   "metadata": {},
   "outputs": [],
   "source": [
    "for l in lst[25:50]:\n",
    "    print(l)"
   ]
  },
  {
   "cell_type": "code",
   "execution_count": 11,
   "id": "b93f6fa6",
   "metadata": {},
   "outputs": [
    {
     "name": "stdout",
     "output_type": "stream",
     "text": [
      "3922\n"
     ]
    }
   ],
   "source": [
    "print(len(message.content[0].text.split('\\n\\n')[1]))"
   ]
  },
  {
   "cell_type": "code",
   "execution_count": 12,
   "id": "7db2f323",
   "metadata": {},
   "outputs": [
    {
     "data": {
      "text/plain": [
       "[]"
      ]
     },
     "execution_count": 12,
     "metadata": {},
     "output_type": "execute_result"
    }
   ],
   "source": [
    "lst = message.content[0].text.split('\\n\\n')[1:-1]\n",
    "lst"
   ]
  },
  {
   "cell_type": "code",
   "execution_count": 13,
   "id": "71cf0b34",
   "metadata": {},
   "outputs": [],
   "source": [
    "import pickle\n",
    "\n",
    "with open('./res/conv_long.pickle', 'wb') as f:\n",
    "    pickle.dump(lst, f)"
   ]
  }
 ],
 "metadata": {
  "kernelspec": {
   "display_name": ".venv",
   "language": "python",
   "name": "python3"
  },
  "language_info": {
   "codemirror_mode": {
    "name": "ipython",
    "version": 3
   },
   "file_extension": ".py",
   "mimetype": "text/x-python",
   "name": "python",
   "nbconvert_exporter": "python",
   "pygments_lexer": "ipython3",
   "version": "3.13.7"
  }
 },
 "nbformat": 4,
 "nbformat_minor": 5
}
