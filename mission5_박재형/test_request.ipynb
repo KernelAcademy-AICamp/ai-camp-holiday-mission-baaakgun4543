{
 "cells": [
  {
   "cell_type": "code",
   "execution_count": 1,
   "id": "8ede1c0a",
   "metadata": {},
   "outputs": [
    {
     "name": "stdout",
     "output_type": "stream",
     "text": [
      "Request successful!\n",
      "Received response: [{'recommend_reason': '다이어트에 좋은 메뉴들로 생연어덮밥, 생생한 생연어초밥을 골라봤어요! 좋은 선택이 될 거에요.', 'recommend_text': '', 'recommendations': [{'restaurant': '육회바른연어-옥수점', 'menus': ['육회덮밥', '혼밥세트2 (육회100g＋육초3＋육덮)', '혼술세트 1 (육회100g＋연어8）', '최상급육회 (180g)', '최상급육회 큰놈 (270g)', '생생한 생연어초밥 6p', '최상급 육회', '핵꿀맛 육회초밥 6p', '육회쫄면', '생연어덮밥', '불육회덮밥']}]}]\n"
     ]
    }
   ],
   "source": [
    "import requests\n",
    "\n",
    "# URL of your FastAPI server\n",
    "url = \"http://localhost:8000/recommend/diet\"\n",
    "\n",
    "# Send the POST request\n",
    "response = requests.get(url)\n",
    "\n",
    "# Check the response\n",
    "if response.status_code == 200:\n",
    "    print(\"Request successful!\")\n",
    "    print(\"Received response:\", response.json())\n",
    "else:\n",
    "    print(\"Request failed with status code:\", response.status_code)\n",
    "    print(\"Response:\", response.text)"
   ]
  }
 ],
 "metadata": {
  "kernelspec": {
   "display_name": ".venv",
   "language": "python",
   "name": "python3"
  },
  "language_info": {
   "codemirror_mode": {
    "name": "ipython",
    "version": 3
   },
   "file_extension": ".py",
   "mimetype": "text/x-python",
   "name": "python",
   "nbconvert_exporter": "python",
   "pygments_lexer": "ipython3",
   "version": "3.13.7"
  }
 },
 "nbformat": 4,
 "nbformat_minor": 5
}
