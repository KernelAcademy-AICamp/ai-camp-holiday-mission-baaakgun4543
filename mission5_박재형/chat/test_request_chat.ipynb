{
 "cells": [
  {
   "cell_type": "code",
   "execution_count": 1,
   "id": "38b3b9c8",
   "metadata": {},
   "outputs": [
    {
     "name": "stdout",
     "output_type": "stream",
     "text": [
      "Request failed with status code: 404\n",
      "Response: {\"detail\":\"Not Found\"}\n"
     ]
    }
   ],
   "source": [
    "import requests\n",
    "\n",
    "# URL of your FastAPI server\n",
    "url = \"http://localhost:8000/recommend\"\n",
    "\n",
    "# The query text to send\n",
    "query_text = \"속이 너무 부대끼는데 해장 할 만한 메뉴 추천해줘\"\n",
    "\n",
    "# Send the POST request\n",
    "response = requests.post(\n",
    "    url,\n",
    "    json={\"query_text\": query_text}\n",
    ")\n",
    "\n",
    "# Check the response\n",
    "if response.status_code == 200:\n",
    "    print(\"Request successful!\")\n",
    "    print(\"Received response:\", response.json())\n",
    "else:\n",
    "    print(\"Request failed with status code:\", response.status_code)\n",
    "    print(\"Response:\", response.text)"
   ]
  }
 ],
 "metadata": {
  "kernelspec": {
   "display_name": ".venv",
   "language": "python",
   "name": "python3"
  },
  "language_info": {
   "codemirror_mode": {
    "name": "ipython",
    "version": 3
   },
   "file_extension": ".py",
   "mimetype": "text/x-python",
   "name": "python",
   "nbconvert_exporter": "python",
   "pygments_lexer": "ipython3",
   "version": "3.13.7"
  }
 },
 "nbformat": 4,
 "nbformat_minor": 5
}
